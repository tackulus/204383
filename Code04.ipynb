{
  "nbformat": 4,
  "nbformat_minor": 0,
  "metadata": {
    "colab": {
      "name": "Code04.ipynb",
      "provenance": [],
      "collapsed_sections": [],
      "authorship_tag": "ABX9TyOr2g/Mnv6D5QVurhDJbaa/",
      "include_colab_link": true
    },
    "kernelspec": {
      "display_name": "Python 3",
      "name": "python3"
    },
    "language_info": {
      "name": "python"
    }
  },
  "cells": [
    {
      "cell_type": "markdown",
      "metadata": {
        "id": "view-in-github",
        "colab_type": "text"
      },
      "source": [
        "<a href=\"https://colab.research.google.com/github/tackulus/204383/blob/main/Code04.ipynb\" target=\"_parent\"><img src=\"https://colab.research.google.com/assets/colab-badge.svg\" alt=\"Open In Colab\"/></a>"
      ]
    },
    {
      "cell_type": "markdown",
      "metadata": {
        "id": "YLU7hrS8aL5M"
      },
      "source": [
        "# **04 Optical Flow**\n",
        "\n",
        "> **204383 Image Processing** \n",
        "\n",
        "---\n",
        "\n",
        "> **Tocktack | Kasidis Torcharoen (610510531)** \\\\\n",
        "**Top | Kittisak Thammawong (610510611)**"
      ]
    },
    {
      "cell_type": "code",
      "metadata": {
        "id": "8oLTYyO_99oi"
      },
      "source": [
        "import numpy as np\n",
        "import pandas as pd\n",
        "import cv2 as cv \n",
        "from google.colab.patches import cv2_imshow\n",
        "from skimage import io\n",
        "import matplotlib.pylab as plt"
      ],
      "execution_count": null,
      "outputs": []
    },
    {
      "cell_type": "markdown",
      "metadata": {
        "id": "CkyRNmn_ESU7"
      },
      "source": [
        "## **Method 1 : Dense Optical Flow using the Farneback method**\n",
        "\n"
      ]
    },
    {
      "cell_type": "code",
      "metadata": {
        "id": "AlOuXuBdq9Qa"
      },
      "source": [
        "def DenseOF(path):\n",
        "    '''   Dense Optical Flow using the Farneback method   '''\n",
        "\n",
        "    # method primimg\n",
        "    cap = cv.VideoCapture(path)\n",
        "    ret, first_frame = cap.read()\n",
        "    prev_gray = cv.cvtColor(first_frame, cv.COLOR_BGR2GRAY)\n",
        "\n",
        "    # Creates an image filled with zero intensities with the same dimensions as the frame\n",
        "    # Sets image saturation to maximum\n",
        "    mask = np.zeros_like(first_frame)\n",
        "    mask[..., 1] = 255\n",
        "\n",
        "    # list of return\n",
        "    img1_lst = []\n",
        "    img2_lst = []\n",
        "\n",
        "    while(cap.isOpened()):\n",
        "\n",
        "        # try to read frames\n",
        "        ret, frame = cap.read()\n",
        "        if not ret: break\n",
        "        img1_lst.append(frame)\n",
        "        gray = cv.cvtColor(frame, cv.COLOR_BGR2GRAY)\n",
        "        \n",
        "        # Farneback method\n",
        "        flow = cv.calcOpticalFlowFarneback(prev_gray, gray, None, 0.5, 3, 15, 3, 5, 1.2, 0)\n",
        "        \n",
        "        # Computes the magnitude(r) and angle(theta) of the 2D vectors\n",
        "        magnitude, angle = cv.cartToPolar(flow[..., 0], flow[..., 1])\n",
        "        \n",
        "        # Sets image hue according to the optical flow direction\n",
        "        mask[..., 0] = angle * 180 / np.pi / 2\n",
        "        \n",
        "        # Sets image value according to the optical flow magnitude (normalized)\n",
        "        mask[..., 2] = cv.normalize(magnitude, None, 0, 255, cv.NORM_MINMAX)\n",
        "        \n",
        "        # Converts HSV to RGB (BGR) color representation\n",
        "        rgb = cv.cvtColor(mask, cv.COLOR_HSV2BGR)\n",
        "        \n",
        "        # Opens a new window and displays the output frame\n",
        "        img2_lst.append(rgb)\n",
        "        \n",
        "        # Updates previous frame\n",
        "        prev_gray = gray\n",
        "\n",
        "    # The following frees up resources and closes all windows\n",
        "    cap.release()\n",
        "\n",
        "    return img1_lst, img2_lst"
      ],
      "execution_count": 60,
      "outputs": []
    },
    {
      "cell_type": "code",
      "metadata": {
        "id": "rPbDyH7ShiaE"
      },
      "source": [
        "img1s, img2s = DenseOF(\"shibuya.mp4\")"
      ],
      "execution_count": 61,
      "outputs": []
    },
    {
      "cell_type": "code",
      "metadata": {
        "id": "iw2j_Jw5ifze"
      },
      "source": [
        "for i, (im1x, im2x) in enumerate(zip(img1s, img2s)):\n",
        "    im1 = cv.cvtColor(im1x, cv.COLOR_BGR2RGB)\n",
        "    im2 = cv.cvtColor(im2x, cv.COLOR_BGR2RGB)\n",
        "    frame = cv.hconcat((im1, im2))\n",
        "    cv.imwrite(f\"frame{i:02d}.png\", frame)"
      ],
      "execution_count": 94,
      "outputs": []
    }
  ]
}